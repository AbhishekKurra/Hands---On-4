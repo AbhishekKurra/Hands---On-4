{
  "nbformat": 4,
  "nbformat_minor": 0,
  "metadata": {
    "colab": {
      "provenance": [],
      "authorship_tag": "ABX9TyM1XYJSxacy9Vg0ah5e3jAb",
      "include_colab_link": true
    },
    "kernelspec": {
      "name": "python3",
      "display_name": "Python 3"
    },
    "language_info": {
      "name": "python"
    }
  },
  "cells": [
    {
      "cell_type": "markdown",
      "metadata": {
        "id": "view-in-github",
        "colab_type": "text"
      },
      "source": [
        "<a href=\"https://colab.research.google.com/github/AbhishekKurra/Hands---On-4/blob/main/Problem%201.ipynb\" target=\"_parent\"><img src=\"https://colab.research.google.com/assets/colab-badge.svg\" alt=\"Open In Colab\"/></a>"
      ]
    },
    {
      "cell_type": "code",
      "execution_count": 1,
      "metadata": {
        "colab": {
          "base_uri": "https://localhost:8080/"
        },
        "id": "bm0L73zQJd0a",
        "outputId": "de83341d-4357-4f4b-a0a3-4c66b2349ef6"
      },
      "outputs": [
        {
          "output_type": "stream",
          "name": "stdout",
          "text": [
            "[1, 2, 3, 4, 7, 8, 9, 10, 11]\n"
          ]
        }
      ],
      "source": [
        "import heapq\n",
        "\n",
        "def merge_k_sorted_arrays(arrays):\n",
        "    min_heap = []\n",
        "    result = []\n",
        "\n",
        "\n",
        "    for i, array in enumerate(arrays):\n",
        "        if array:\n",
        "            heapq.heappush(min_heap, (array[0], i, 0))\n",
        "\n",
        "    while min_heap:\n",
        "        value, arr_idx, elem_idx = heapq.heappop(min_heap)\n",
        "        result.append(value)\n",
        "\n",
        "\n",
        "        if elem_idx + 1 < len(arrays[arr_idx]):\n",
        "            next_elem = arrays[arr_idx][elem_idx + 1]\n",
        "            heapq.heappush(min_heap, (next_elem, arr_idx, elem_idx + 1))\n",
        "\n",
        "    return result\n",
        "\n",
        "arrays1 = [[1,3,7], [2,4,8], [9,10,11]]\n",
        "print(merge_k_sorted_arrays(arrays1))"
      ]
    }
  ]
}