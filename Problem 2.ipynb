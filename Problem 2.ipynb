{
  "nbformat": 4,
  "nbformat_minor": 0,
  "metadata": {
    "colab": {
      "provenance": [],
      "authorship_tag": "ABX9TyPzMG44gfl8tK9piruKYKTr",
      "include_colab_link": true
    },
    "kernelspec": {
      "name": "python3",
      "display_name": "Python 3"
    },
    "language_info": {
      "name": "python"
    }
  },
  "cells": [
    {
      "cell_type": "markdown",
      "metadata": {
        "id": "view-in-github",
        "colab_type": "text"
      },
      "source": [
        "<a href=\"https://colab.research.google.com/github/AbhishekKurra/Hands---On-4/blob/main/Problem%202.ipynb\" target=\"_parent\"><img src=\"https://colab.research.google.com/assets/colab-badge.svg\" alt=\"Open In Colab\"/></a>"
      ]
    },
    {
      "cell_type": "code",
      "execution_count": 1,
      "metadata": {
        "colab": {
          "base_uri": "https://localhost:8080/"
        },
        "id": "3HkGx7DNKbXi",
        "outputId": "497d078b-5877-419a-c94d-a0d92b1eb607"
      },
      "outputs": [
        {
          "output_type": "stream",
          "name": "stdout",
          "text": [
            "[1, 2, 3, 4, 5]\n"
          ]
        }
      ],
      "source": [
        "def remove_duplicates(array):\n",
        "    if not array:\n",
        "        return []\n",
        "\n",
        "    j = 0\n",
        "\n",
        "    for i in range(1, len(array)):\n",
        "        if array[i] != array[j]:\n",
        "            j += 1\n",
        "            array[j] = array[i]\n",
        "\n",
        "    return array[:j+1]\n",
        "\n",
        "\n",
        "array1 = [1, 2, 2, 3, 4, 4, 4, 5, 5]\n",
        "print(remove_duplicates(array1))"
      ]
    }
  ]
}